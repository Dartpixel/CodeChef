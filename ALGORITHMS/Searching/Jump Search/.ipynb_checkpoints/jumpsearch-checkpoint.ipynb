{
 "cells": [
  {
   "cell_type": "code",
   "execution_count": 1,
   "id": "ef3eabb4",
   "metadata": {},
   "outputs": [],
   "source": [
    "import math"
   ]
  },
  {
   "cell_type": "code",
   "execution_count": 2,
   "id": "c3fda12e",
   "metadata": {},
   "outputs": [],
   "source": [
    "def jump_search(): \n",
    "    \n",
    "    n = int(input(\"Please enter the number of elements of the list \"))\n",
    "    \n",
    "    my_list = []\n",
    "    print(\"Please enter the elements of the list\")\n",
    "    for i in range(n):\n",
    "        element = int(input())\n",
    "        my_list.append(element)\n",
    "    \n",
    "    my_list.sort()\n",
    "    # Jump search can only be done on sorted lists.\n",
    "    \n",
    "    # Printing sorted list.\n",
    "    print(my_list)\n",
    "    \n",
    "    x = int(input(\"Please enter element to be found \"))\n",
    "    \n",
    "    #Finding the step/block size \n",
    "    step = math.sqrt(n)\n",
    "    \n",
    "    prev = 0\n",
    "    \n",
    "    # To find the block where the element is present \n",
    "    while my_list[int(min(step, n)-1)] < x:\n",
    "        prev = step\n",
    "        step += math.sqrt(n)\n",
    "        if prev >= n:\n",
    "            break\n",
    "            \n",
    "    # Linear search within the block \n",
    "    while my_list[int(prev)] < x:\n",
    "        prev = prev + 1\n",
    "        # If the end of the block is reached and element is not found\n",
    "        if prev == min(step, n):\n",
    "            break\n",
    "    \n",
    "    # If element is found at index prev\n",
    "    if my_list[int(prev)] == x:\n",
    "        print(int(prev)+1)"
   ]
  },
  {
   "cell_type": "code",
   "execution_count": 3,
   "id": "379704b2",
   "metadata": {},
   "outputs": [
    {
     "name": "stdout",
     "output_type": "stream",
     "text": [
      "Please enter the number of elements of the list 10\n",
      "Please enter the elements of the list\n",
      "22\n",
      "100\n",
      "3\n",
      "67\n",
      "88\n",
      "45\n",
      "23\n",
      "11\n",
      "90\n",
      "35\n",
      "[3, 11, 22, 23, 35, 45, 67, 88, 90, 100]\n",
      "Please enter element to be found 88\n",
      "8\n"
     ]
    }
   ],
   "source": [
    "jump_search()"
   ]
  },
  {
   "cell_type": "code",
   "execution_count": null,
   "id": "92299ed3",
   "metadata": {},
   "outputs": [],
   "source": []
  }
 ],
 "metadata": {
  "kernelspec": {
   "display_name": "Python 3",
   "language": "python",
   "name": "python3"
  },
  "language_info": {
   "codemirror_mode": {
    "name": "ipython",
    "version": 3
   },
   "file_extension": ".py",
   "mimetype": "text/x-python",
   "name": "python",
   "nbconvert_exporter": "python",
   "pygments_lexer": "ipython3",
   "version": "3.8.8"
  }
 },
 "nbformat": 4,
 "nbformat_minor": 5
}
